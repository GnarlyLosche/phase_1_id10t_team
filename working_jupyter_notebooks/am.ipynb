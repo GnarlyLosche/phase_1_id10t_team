{
 "cells": [
  {
   "cell_type": "code",
   "execution_count": 1,
   "metadata": {},
   "outputs": [],
   "source": [
    "import csv\n",
    "import json\n",
    "import pandas as pd\n",
    "import matplotlib.pyplot as plt\n",
    "import sqlite3\n",
    "import numpy as np\n",
    "import seaborn as sns"
   ]
  },
  {
   "cell_type": "code",
   "execution_count": 2,
   "metadata": {},
   "outputs": [],
   "source": [
    "rt_reviews_df = pd.read_csv('../Data/rt.reviews.tsv',\n",
    "                           delimiter='\\t',\n",
    "                           encoding=('unicode_escape'))"
   ]
  },
  {
   "cell_type": "code",
   "execution_count": 3,
   "metadata": {},
   "outputs": [
    {
     "data": {
      "text/html": [
       "<div>\n",
       "<style scoped>\n",
       "    .dataframe tbody tr th:only-of-type {\n",
       "        vertical-align: middle;\n",
       "    }\n",
       "\n",
       "    .dataframe tbody tr th {\n",
       "        vertical-align: top;\n",
       "    }\n",
       "\n",
       "    .dataframe thead th {\n",
       "        text-align: right;\n",
       "    }\n",
       "</style>\n",
       "<table border=\"1\" class=\"dataframe\">\n",
       "  <thead>\n",
       "    <tr style=\"text-align: right;\">\n",
       "      <th></th>\n",
       "      <th>id</th>\n",
       "      <th>review</th>\n",
       "      <th>rating</th>\n",
       "      <th>fresh</th>\n",
       "      <th>critic</th>\n",
       "      <th>top_critic</th>\n",
       "      <th>publisher</th>\n",
       "      <th>date</th>\n",
       "    </tr>\n",
       "  </thead>\n",
       "  <tbody>\n",
       "    <tr>\n",
       "      <th>0</th>\n",
       "      <td>3</td>\n",
       "      <td>A distinctly gallows take on contemporary fina...</td>\n",
       "      <td>3/5</td>\n",
       "      <td>fresh</td>\n",
       "      <td>PJ Nabarro</td>\n",
       "      <td>0</td>\n",
       "      <td>Patrick Nabarro</td>\n",
       "      <td>November 10, 2018</td>\n",
       "    </tr>\n",
       "    <tr>\n",
       "      <th>1</th>\n",
       "      <td>3</td>\n",
       "      <td>It's an allegory in search of a meaning that n...</td>\n",
       "      <td>NaN</td>\n",
       "      <td>rotten</td>\n",
       "      <td>Annalee Newitz</td>\n",
       "      <td>0</td>\n",
       "      <td>io9.com</td>\n",
       "      <td>May 23, 2018</td>\n",
       "    </tr>\n",
       "    <tr>\n",
       "      <th>2</th>\n",
       "      <td>3</td>\n",
       "      <td>... life lived in a bubble in financial dealin...</td>\n",
       "      <td>NaN</td>\n",
       "      <td>fresh</td>\n",
       "      <td>Sean Axmaker</td>\n",
       "      <td>0</td>\n",
       "      <td>Stream on Demand</td>\n",
       "      <td>January 4, 2018</td>\n",
       "    </tr>\n",
       "    <tr>\n",
       "      <th>3</th>\n",
       "      <td>3</td>\n",
       "      <td>Continuing along a line introduced in last yea...</td>\n",
       "      <td>NaN</td>\n",
       "      <td>fresh</td>\n",
       "      <td>Daniel Kasman</td>\n",
       "      <td>0</td>\n",
       "      <td>MUBI</td>\n",
       "      <td>November 16, 2017</td>\n",
       "    </tr>\n",
       "    <tr>\n",
       "      <th>4</th>\n",
       "      <td>3</td>\n",
       "      <td>... a perverse twist on neorealism...</td>\n",
       "      <td>NaN</td>\n",
       "      <td>fresh</td>\n",
       "      <td>NaN</td>\n",
       "      <td>0</td>\n",
       "      <td>Cinema Scope</td>\n",
       "      <td>October 12, 2017</td>\n",
       "    </tr>\n",
       "  </tbody>\n",
       "</table>\n",
       "</div>"
      ],
      "text/plain": [
       "   id                                             review rating   fresh  \\\n",
       "0   3  A distinctly gallows take on contemporary fina...    3/5   fresh   \n",
       "1   3  It's an allegory in search of a meaning that n...    NaN  rotten   \n",
       "2   3  ... life lived in a bubble in financial dealin...    NaN   fresh   \n",
       "3   3  Continuing along a line introduced in last yea...    NaN   fresh   \n",
       "4   3             ... a perverse twist on neorealism...     NaN   fresh   \n",
       "\n",
       "           critic  top_critic         publisher               date  \n",
       "0      PJ Nabarro           0   Patrick Nabarro  November 10, 2018  \n",
       "1  Annalee Newitz           0           io9.com       May 23, 2018  \n",
       "2    Sean Axmaker           0  Stream on Demand    January 4, 2018  \n",
       "3   Daniel Kasman           0              MUBI  November 16, 2017  \n",
       "4             NaN           0      Cinema Scope   October 12, 2017  "
      ]
     },
     "execution_count": 3,
     "metadata": {},
     "output_type": "execute_result"
    }
   ],
   "source": [
    "rt_reviews_df.head()"
   ]
  },
  {
   "cell_type": "code",
   "execution_count": 4,
   "metadata": {},
   "outputs": [
    {
     "data": {
      "text/plain": [
       "3/5       4327\n",
       "4/5       3672\n",
       "3/4       3577\n",
       "2/5       3160\n",
       "2/4       2712\n",
       "          ... \n",
       "3.1/5        1\n",
       "6.2/10       1\n",
       "2.6/5        1\n",
       "9.7          1\n",
       "3 1/2        1\n",
       "Name: rating, Length: 186, dtype: int64"
      ]
     },
     "execution_count": 4,
     "metadata": {},
     "output_type": "execute_result"
    }
   ],
   "source": [
    "rt_reviews_df['rating'].value_counts()"
   ]
  },
  {
   "cell_type": "code",
   "execution_count": 5,
   "metadata": {},
   "outputs": [],
   "source": [
    "tnmovie = pd.read_csv('../Data/tn.movie_budgets.csv')"
   ]
  },
  {
   "cell_type": "code",
   "execution_count": 6,
   "metadata": {},
   "outputs": [],
   "source": [
    "tnmovie['worldwide_gross'] = tnmovie['worldwide_gross'].str.replace(\"\\$|,|\\.\", '', regex = True).astype('int64')\n",
    "\n",
    "tnmovie['domestic_gross'] = tnmovie['domestic_gross'].str.replace(\"\\$|,|\\.\", '', regex = True).astype('int64')\n",
    "\n",
    "tnmovie['production_budget'] = tnmovie['production_budget'].str.replace(\"\\$|,|\\.\", '', regex = True).astype('int64')\n",
    "\n",
    "tnmovie['profit'] = tnmovie['worldwide_gross'] - tnmovie['production_budget']\n",
    "\n",
    "tnmovie['perc_return'] = (tnmovie['profit'] / tnmovie['production_budget']) * 100"
   ]
  },
  {
   "cell_type": "markdown",
   "metadata": {},
   "source": [
    "# Reading data"
   ]
  },
  {
   "cell_type": "markdown",
   "metadata": {},
   "source": [
    "Read the im.db data with SQL"
   ]
  },
  {
   "cell_type": "code",
   "execution_count": 7,
   "metadata": {
    "scrolled": true
   },
   "outputs": [
    {
     "data": {
      "text/html": [
       "<div>\n",
       "<style scoped>\n",
       "    .dataframe tbody tr th:only-of-type {\n",
       "        vertical-align: middle;\n",
       "    }\n",
       "\n",
       "    .dataframe tbody tr th {\n",
       "        vertical-align: top;\n",
       "    }\n",
       "\n",
       "    .dataframe thead th {\n",
       "        text-align: right;\n",
       "    }\n",
       "</style>\n",
       "<table border=\"1\" class=\"dataframe\">\n",
       "  <thead>\n",
       "    <tr style=\"text-align: right;\">\n",
       "      <th></th>\n",
       "      <th>type</th>\n",
       "      <th>name</th>\n",
       "      <th>tbl_name</th>\n",
       "      <th>rootpage</th>\n",
       "      <th>sql</th>\n",
       "    </tr>\n",
       "  </thead>\n",
       "  <tbody>\n",
       "    <tr>\n",
       "      <th>0</th>\n",
       "      <td>table</td>\n",
       "      <td>movie_basics</td>\n",
       "      <td>movie_basics</td>\n",
       "      <td>2</td>\n",
       "      <td>CREATE TABLE \"movie_basics\" (\\n\"movie_id\" TEXT...</td>\n",
       "    </tr>\n",
       "    <tr>\n",
       "      <th>1</th>\n",
       "      <td>table</td>\n",
       "      <td>directors</td>\n",
       "      <td>directors</td>\n",
       "      <td>3</td>\n",
       "      <td>CREATE TABLE \"directors\" (\\n\"movie_id\" TEXT,\\n...</td>\n",
       "    </tr>\n",
       "    <tr>\n",
       "      <th>2</th>\n",
       "      <td>table</td>\n",
       "      <td>known_for</td>\n",
       "      <td>known_for</td>\n",
       "      <td>4</td>\n",
       "      <td>CREATE TABLE \"known_for\" (\\n\"person_id\" TEXT,\\...</td>\n",
       "    </tr>\n",
       "    <tr>\n",
       "      <th>3</th>\n",
       "      <td>table</td>\n",
       "      <td>movie_akas</td>\n",
       "      <td>movie_akas</td>\n",
       "      <td>5</td>\n",
       "      <td>CREATE TABLE \"movie_akas\" (\\n\"movie_id\" TEXT,\\...</td>\n",
       "    </tr>\n",
       "    <tr>\n",
       "      <th>4</th>\n",
       "      <td>table</td>\n",
       "      <td>movie_ratings</td>\n",
       "      <td>movie_ratings</td>\n",
       "      <td>6</td>\n",
       "      <td>CREATE TABLE \"movie_ratings\" (\\n\"movie_id\" TEX...</td>\n",
       "    </tr>\n",
       "    <tr>\n",
       "      <th>5</th>\n",
       "      <td>table</td>\n",
       "      <td>persons</td>\n",
       "      <td>persons</td>\n",
       "      <td>7</td>\n",
       "      <td>CREATE TABLE \"persons\" (\\n\"person_id\" TEXT,\\n ...</td>\n",
       "    </tr>\n",
       "    <tr>\n",
       "      <th>6</th>\n",
       "      <td>table</td>\n",
       "      <td>principals</td>\n",
       "      <td>principals</td>\n",
       "      <td>8</td>\n",
       "      <td>CREATE TABLE \"principals\" (\\n\"movie_id\" TEXT,\\...</td>\n",
       "    </tr>\n",
       "    <tr>\n",
       "      <th>7</th>\n",
       "      <td>table</td>\n",
       "      <td>writers</td>\n",
       "      <td>writers</td>\n",
       "      <td>9</td>\n",
       "      <td>CREATE TABLE \"writers\" (\\n\"movie_id\" TEXT,\\n  ...</td>\n",
       "    </tr>\n",
       "  </tbody>\n",
       "</table>\n",
       "</div>"
      ],
      "text/plain": [
       "    type           name       tbl_name  rootpage  \\\n",
       "0  table   movie_basics   movie_basics         2   \n",
       "1  table      directors      directors         3   \n",
       "2  table      known_for      known_for         4   \n",
       "3  table     movie_akas     movie_akas         5   \n",
       "4  table  movie_ratings  movie_ratings         6   \n",
       "5  table        persons        persons         7   \n",
       "6  table     principals     principals         8   \n",
       "7  table        writers        writers         9   \n",
       "\n",
       "                                                 sql  \n",
       "0  CREATE TABLE \"movie_basics\" (\\n\"movie_id\" TEXT...  \n",
       "1  CREATE TABLE \"directors\" (\\n\"movie_id\" TEXT,\\n...  \n",
       "2  CREATE TABLE \"known_for\" (\\n\"person_id\" TEXT,\\...  \n",
       "3  CREATE TABLE \"movie_akas\" (\\n\"movie_id\" TEXT,\\...  \n",
       "4  CREATE TABLE \"movie_ratings\" (\\n\"movie_id\" TEX...  \n",
       "5  CREATE TABLE \"persons\" (\\n\"person_id\" TEXT,\\n ...  \n",
       "6  CREATE TABLE \"principals\" (\\n\"movie_id\" TEXT,\\...  \n",
       "7  CREATE TABLE \"writers\" (\\n\"movie_id\" TEXT,\\n  ...  "
      ]
     },
     "execution_count": 7,
     "metadata": {},
     "output_type": "execute_result"
    }
   ],
   "source": [
    "conn = sqlite3.connect('../Data/im.db')\n",
    "pd.read_sql('''\n",
    "SELECT\n",
    "    *\n",
    "FROM\n",
    "    sqlite_master\n",
    "\n",
    "''',conn)"
   ]
  },
  {
   "cell_type": "markdown",
   "metadata": {},
   "source": [
    "# Directors SQL"
   ]
  },
  {
   "cell_type": "markdown",
   "metadata": {},
   "source": [
    "Use SQL query to join tables by primary and foreign keys. This new comprehensive dataframe contains indentifying data regarding directors."
   ]
  },
  {
   "cell_type": "code",
   "execution_count": 8,
   "metadata": {},
   "outputs": [
    {
     "data": {
      "text/html": [
       "<div>\n",
       "<style scoped>\n",
       "    .dataframe tbody tr th:only-of-type {\n",
       "        vertical-align: middle;\n",
       "    }\n",
       "\n",
       "    .dataframe tbody tr th {\n",
       "        vertical-align: top;\n",
       "    }\n",
       "\n",
       "    .dataframe thead th {\n",
       "        text-align: right;\n",
       "    }\n",
       "</style>\n",
       "<table border=\"1\" class=\"dataframe\">\n",
       "  <thead>\n",
       "    <tr style=\"text-align: right;\">\n",
       "      <th></th>\n",
       "      <th>category</th>\n",
       "      <th>person_id</th>\n",
       "      <th>movie_id</th>\n",
       "      <th>primary_name</th>\n",
       "      <th>primary_title</th>\n",
       "    </tr>\n",
       "  </thead>\n",
       "  <tbody>\n",
       "    <tr>\n",
       "      <th>0</th>\n",
       "      <td>director</td>\n",
       "      <td>nm0398271</td>\n",
       "      <td>tt0111414</td>\n",
       "      <td>Frank Howson</td>\n",
       "      <td>A Thin Life</td>\n",
       "    </tr>\n",
       "    <tr>\n",
       "      <th>1</th>\n",
       "      <td>director</td>\n",
       "      <td>nm0362736</td>\n",
       "      <td>tt0323808</td>\n",
       "      <td>Robin Hardy</td>\n",
       "      <td>The Wicker Tree</td>\n",
       "    </tr>\n",
       "    <tr>\n",
       "      <th>2</th>\n",
       "      <td>director</td>\n",
       "      <td>nm1145057</td>\n",
       "      <td>tt0417610</td>\n",
       "      <td>Alejandro Chomski</td>\n",
       "      <td>Asleep in the Sun</td>\n",
       "    </tr>\n",
       "    <tr>\n",
       "      <th>3</th>\n",
       "      <td>director</td>\n",
       "      <td>nm0707738</td>\n",
       "      <td>tt0469152</td>\n",
       "      <td>Alyssa R. Bennett</td>\n",
       "      <td>Smoking/Non-Smoking</td>\n",
       "    </tr>\n",
       "    <tr>\n",
       "      <th>4</th>\n",
       "      <td>director</td>\n",
       "      <td>nm0776090</td>\n",
       "      <td>tt0473032</td>\n",
       "      <td>J. Neil Schulman</td>\n",
       "      <td>Escape from Heaven</td>\n",
       "    </tr>\n",
       "    <tr>\n",
       "      <th>...</th>\n",
       "      <td>...</td>\n",
       "      <td>...</td>\n",
       "      <td>...</td>\n",
       "      <td>...</td>\n",
       "      <td>...</td>\n",
       "    </tr>\n",
       "    <tr>\n",
       "      <th>146388</th>\n",
       "      <td>director</td>\n",
       "      <td>nm9728620</td>\n",
       "      <td>tt9679036</td>\n",
       "      <td>Julia Beney</td>\n",
       "      <td>A Girl, a Boy, a Penny and a Very, Very, Very ...</td>\n",
       "    </tr>\n",
       "    <tr>\n",
       "      <th>146389</th>\n",
       "      <td>director</td>\n",
       "      <td>nm10436661</td>\n",
       "      <td>tt9681728</td>\n",
       "      <td>Alexander Zolotukhin</td>\n",
       "      <td>A Russian Youth</td>\n",
       "    </tr>\n",
       "    <tr>\n",
       "      <th>146390</th>\n",
       "      <td>director</td>\n",
       "      <td>nm9652770</td>\n",
       "      <td>tt9689618</td>\n",
       "      <td>Xavi Herrero</td>\n",
       "      <td>Moonface. A woman in the war.</td>\n",
       "    </tr>\n",
       "    <tr>\n",
       "      <th>146391</th>\n",
       "      <td>director</td>\n",
       "      <td>nm10439725</td>\n",
       "      <td>tt9689618</td>\n",
       "      <td>Xavi Herrero</td>\n",
       "      <td>Moonface. A woman in the war.</td>\n",
       "    </tr>\n",
       "    <tr>\n",
       "      <th>146392</th>\n",
       "      <td>director</td>\n",
       "      <td>nm10441594</td>\n",
       "      <td>tt9692684</td>\n",
       "      <td>Guy Jones</td>\n",
       "      <td>Disnatured</td>\n",
       "    </tr>\n",
       "  </tbody>\n",
       "</table>\n",
       "<p>146393 rows × 5 columns</p>\n",
       "</div>"
      ],
      "text/plain": [
       "        category   person_id   movie_id          primary_name  \\\n",
       "0       director   nm0398271  tt0111414          Frank Howson   \n",
       "1       director   nm0362736  tt0323808           Robin Hardy   \n",
       "2       director   nm1145057  tt0417610     Alejandro Chomski   \n",
       "3       director   nm0707738  tt0469152     Alyssa R. Bennett   \n",
       "4       director   nm0776090  tt0473032      J. Neil Schulman   \n",
       "...          ...         ...        ...                   ...   \n",
       "146388  director   nm9728620  tt9679036           Julia Beney   \n",
       "146389  director  nm10436661  tt9681728  Alexander Zolotukhin   \n",
       "146390  director   nm9652770  tt9689618          Xavi Herrero   \n",
       "146391  director  nm10439725  tt9689618          Xavi Herrero   \n",
       "146392  director  nm10441594  tt9692684             Guy Jones   \n",
       "\n",
       "                                            primary_title  \n",
       "0                                             A Thin Life  \n",
       "1                                         The Wicker Tree  \n",
       "2                                       Asleep in the Sun  \n",
       "3                                     Smoking/Non-Smoking  \n",
       "4                                      Escape from Heaven  \n",
       "...                                                   ...  \n",
       "146388  A Girl, a Boy, a Penny and a Very, Very, Very ...  \n",
       "146389                                    A Russian Youth  \n",
       "146390                      Moonface. A woman in the war.  \n",
       "146391                      Moonface. A woman in the war.  \n",
       "146392                                         Disnatured  \n",
       "\n",
       "[146393 rows x 5 columns]"
      ]
     },
     "execution_count": 8,
     "metadata": {},
     "output_type": "execute_result"
    }
   ],
   "source": [
    "directors_df = pd.read_sql('''\n",
    "SELECT\n",
    "    category,\n",
    "    pr.person_id,\n",
    "    pr.movie_id,\n",
    "    primary_name,\n",
    "    primary_title\n",
    "FROM\n",
    "    principals as pr\n",
    "INNER JOIN\n",
    "    persons as p using(person_id)\n",
    "INNER JOIN\n",
    "    movie_basics as mb using(movie_id)\n",
    "WHERE\n",
    "    category = 'director'\n",
    "''',conn)\n",
    "\n",
    "directors_df"
   ]
  },
  {
   "cell_type": "markdown",
   "metadata": {},
   "source": [
    "# Directors dataframe merge"
   ]
  },
  {
   "cell_type": "markdown",
   "metadata": {},
   "source": [
    "Merge the directors and tnmovie dataframes on 'primary_title' and 'movie'"
   ]
  },
  {
   "cell_type": "code",
   "execution_count": 9,
   "metadata": {},
   "outputs": [],
   "source": [
    "directors_df = pd.merge(directors_df,\n",
    "                  tnmovie,\n",
    "                  left_on='primary_title',\n",
    "                  right_on='movie')"
   ]
  },
  {
   "cell_type": "markdown",
   "metadata": {},
   "source": [
    "Sort director df by 'profit'."
   ]
  },
  {
   "cell_type": "code",
   "execution_count": 10,
   "metadata": {},
   "outputs": [
    {
     "data": {
      "text/html": [
       "<div>\n",
       "<style scoped>\n",
       "    .dataframe tbody tr th:only-of-type {\n",
       "        vertical-align: middle;\n",
       "    }\n",
       "\n",
       "    .dataframe tbody tr th {\n",
       "        vertical-align: top;\n",
       "    }\n",
       "\n",
       "    .dataframe thead th {\n",
       "        text-align: right;\n",
       "    }\n",
       "</style>\n",
       "<table border=\"1\" class=\"dataframe\">\n",
       "  <thead>\n",
       "    <tr style=\"text-align: right;\">\n",
       "      <th></th>\n",
       "      <th>category</th>\n",
       "      <th>person_id</th>\n",
       "      <th>movie_id</th>\n",
       "      <th>primary_name</th>\n",
       "      <th>primary_title</th>\n",
       "      <th>id</th>\n",
       "      <th>release_date</th>\n",
       "      <th>movie</th>\n",
       "      <th>production_budget</th>\n",
       "      <th>domestic_gross</th>\n",
       "      <th>worldwide_gross</th>\n",
       "      <th>profit</th>\n",
       "      <th>perc_return</th>\n",
       "    </tr>\n",
       "  </thead>\n",
       "  <tbody>\n",
       "    <tr>\n",
       "      <th>1801</th>\n",
       "      <td>director</td>\n",
       "      <td>nm3786927</td>\n",
       "      <td>tt1775309</td>\n",
       "      <td>Atsushi Wada</td>\n",
       "      <td>Avatar</td>\n",
       "      <td>1</td>\n",
       "      <td>Dec 18, 2009</td>\n",
       "      <td>Avatar</td>\n",
       "      <td>425000000</td>\n",
       "      <td>760507625</td>\n",
       "      <td>2776345279</td>\n",
       "      <td>2351345279</td>\n",
       "      <td>553.257713</td>\n",
       "    </tr>\n",
       "    <tr>\n",
       "      <th>3775</th>\n",
       "      <td>director</td>\n",
       "      <td>nm10047650</td>\n",
       "      <td>tt8852130</td>\n",
       "      <td>Ravi Punj</td>\n",
       "      <td>Titanic</td>\n",
       "      <td>43</td>\n",
       "      <td>Dec 19, 1997</td>\n",
       "      <td>Titanic</td>\n",
       "      <td>200000000</td>\n",
       "      <td>659363944</td>\n",
       "      <td>2208208395</td>\n",
       "      <td>2008208395</td>\n",
       "      <td>1004.104198</td>\n",
       "    </tr>\n",
       "    <tr>\n",
       "      <th>3168</th>\n",
       "      <td>director</td>\n",
       "      <td>nm0751577</td>\n",
       "      <td>tt4154756</td>\n",
       "      <td>Anthony Russo</td>\n",
       "      <td>Avengers: Infinity War</td>\n",
       "      <td>7</td>\n",
       "      <td>Apr 27, 2018</td>\n",
       "      <td>Avengers: Infinity War</td>\n",
       "      <td>300000000</td>\n",
       "      <td>678815482</td>\n",
       "      <td>2048134200</td>\n",
       "      <td>1748134200</td>\n",
       "      <td>582.711400</td>\n",
       "    </tr>\n",
       "    <tr>\n",
       "      <th>3169</th>\n",
       "      <td>director</td>\n",
       "      <td>nm0751648</td>\n",
       "      <td>tt4154756</td>\n",
       "      <td>Joe Russo</td>\n",
       "      <td>Avengers: Infinity War</td>\n",
       "      <td>7</td>\n",
       "      <td>Apr 27, 2018</td>\n",
       "      <td>Avengers: Infinity War</td>\n",
       "      <td>300000000</td>\n",
       "      <td>678815482</td>\n",
       "      <td>2048134200</td>\n",
       "      <td>1748134200</td>\n",
       "      <td>582.711400</td>\n",
       "    </tr>\n",
       "    <tr>\n",
       "      <th>353</th>\n",
       "      <td>director</td>\n",
       "      <td>nm1119880</td>\n",
       "      <td>tt0369610</td>\n",
       "      <td>Colin Trevorrow</td>\n",
       "      <td>Jurassic World</td>\n",
       "      <td>34</td>\n",
       "      <td>Jun 12, 2015</td>\n",
       "      <td>Jurassic World</td>\n",
       "      <td>215000000</td>\n",
       "      <td>652270625</td>\n",
       "      <td>1648854864</td>\n",
       "      <td>1433854864</td>\n",
       "      <td>666.909239</td>\n",
       "    </tr>\n",
       "    <tr>\n",
       "      <th>...</th>\n",
       "      <td>...</td>\n",
       "      <td>...</td>\n",
       "      <td>...</td>\n",
       "      <td>...</td>\n",
       "      <td>...</td>\n",
       "      <td>...</td>\n",
       "      <td>...</td>\n",
       "      <td>...</td>\n",
       "      <td>...</td>\n",
       "      <td>...</td>\n",
       "      <td>...</td>\n",
       "      <td>...</td>\n",
       "      <td>...</td>\n",
       "    </tr>\n",
       "    <tr>\n",
       "      <th>3794</th>\n",
       "      <td>director</td>\n",
       "      <td>nm0761498</td>\n",
       "      <td>tt7504726</td>\n",
       "      <td>Chris Sanders</td>\n",
       "      <td>Call of the Wild</td>\n",
       "      <td>36</td>\n",
       "      <td>Feb 21, 2020</td>\n",
       "      <td>Call of the Wild</td>\n",
       "      <td>82000000</td>\n",
       "      <td>0</td>\n",
       "      <td>0</td>\n",
       "      <td>-82000000</td>\n",
       "      <td>-100.000000</td>\n",
       "    </tr>\n",
       "    <tr>\n",
       "      <th>3552</th>\n",
       "      <td>director</td>\n",
       "      <td>nm0043742</td>\n",
       "      <td>tt5519340</td>\n",
       "      <td>David Ayer</td>\n",
       "      <td>Bright</td>\n",
       "      <td>80</td>\n",
       "      <td>Dec 13, 2017</td>\n",
       "      <td>Bright</td>\n",
       "      <td>90000000</td>\n",
       "      <td>0</td>\n",
       "      <td>0</td>\n",
       "      <td>-90000000</td>\n",
       "      <td>-100.000000</td>\n",
       "    </tr>\n",
       "    <tr>\n",
       "      <th>2628</th>\n",
       "      <td>director</td>\n",
       "      <td>nm0336620</td>\n",
       "      <td>tt2283336</td>\n",
       "      <td>F. Gary Gray</td>\n",
       "      <td>Men in Black: International</td>\n",
       "      <td>42</td>\n",
       "      <td>Jun 14, 2019</td>\n",
       "      <td>Men in Black: International</td>\n",
       "      <td>110000000</td>\n",
       "      <td>3100000</td>\n",
       "      <td>3100000</td>\n",
       "      <td>-106900000</td>\n",
       "      <td>-97.181818</td>\n",
       "    </tr>\n",
       "    <tr>\n",
       "      <th>1111</th>\n",
       "      <td>director</td>\n",
       "      <td>nm0920425</td>\n",
       "      <td>tt1305591</td>\n",
       "      <td>Simon Wells</td>\n",
       "      <td>Mars Needs Moms</td>\n",
       "      <td>94</td>\n",
       "      <td>Mar 11, 2011</td>\n",
       "      <td>Mars Needs Moms</td>\n",
       "      <td>150000000</td>\n",
       "      <td>21392758</td>\n",
       "      <td>39549758</td>\n",
       "      <td>-110450242</td>\n",
       "      <td>-73.633495</td>\n",
       "    </tr>\n",
       "    <tr>\n",
       "      <th>3662</th>\n",
       "      <td>director</td>\n",
       "      <td>nm1334526</td>\n",
       "      <td>tt6565702</td>\n",
       "      <td>Simon Kinberg</td>\n",
       "      <td>Dark Phoenix</td>\n",
       "      <td>3</td>\n",
       "      <td>Jun 7, 2019</td>\n",
       "      <td>Dark Phoenix</td>\n",
       "      <td>350000000</td>\n",
       "      <td>42762350</td>\n",
       "      <td>149762350</td>\n",
       "      <td>-200237650</td>\n",
       "      <td>-57.210757</td>\n",
       "    </tr>\n",
       "  </tbody>\n",
       "</table>\n",
       "<p>3869 rows × 13 columns</p>\n",
       "</div>"
      ],
      "text/plain": [
       "      category   person_id   movie_id     primary_name  \\\n",
       "1801  director   nm3786927  tt1775309     Atsushi Wada   \n",
       "3775  director  nm10047650  tt8852130        Ravi Punj   \n",
       "3168  director   nm0751577  tt4154756    Anthony Russo   \n",
       "3169  director   nm0751648  tt4154756        Joe Russo   \n",
       "353   director   nm1119880  tt0369610  Colin Trevorrow   \n",
       "...        ...         ...        ...              ...   \n",
       "3794  director   nm0761498  tt7504726    Chris Sanders   \n",
       "3552  director   nm0043742  tt5519340       David Ayer   \n",
       "2628  director   nm0336620  tt2283336     F. Gary Gray   \n",
       "1111  director   nm0920425  tt1305591      Simon Wells   \n",
       "3662  director   nm1334526  tt6565702    Simon Kinberg   \n",
       "\n",
       "                    primary_title  id  release_date  \\\n",
       "1801                       Avatar   1  Dec 18, 2009   \n",
       "3775                      Titanic  43  Dec 19, 1997   \n",
       "3168       Avengers: Infinity War   7  Apr 27, 2018   \n",
       "3169       Avengers: Infinity War   7  Apr 27, 2018   \n",
       "353                Jurassic World  34  Jun 12, 2015   \n",
       "...                           ...  ..           ...   \n",
       "3794             Call of the Wild  36  Feb 21, 2020   \n",
       "3552                       Bright  80  Dec 13, 2017   \n",
       "2628  Men in Black: International  42  Jun 14, 2019   \n",
       "1111              Mars Needs Moms  94  Mar 11, 2011   \n",
       "3662                 Dark Phoenix   3   Jun 7, 2019   \n",
       "\n",
       "                            movie  production_budget  domestic_gross  \\\n",
       "1801                       Avatar          425000000       760507625   \n",
       "3775                      Titanic          200000000       659363944   \n",
       "3168       Avengers: Infinity War          300000000       678815482   \n",
       "3169       Avengers: Infinity War          300000000       678815482   \n",
       "353                Jurassic World          215000000       652270625   \n",
       "...                           ...                ...             ...   \n",
       "3794             Call of the Wild           82000000               0   \n",
       "3552                       Bright           90000000               0   \n",
       "2628  Men in Black: International          110000000         3100000   \n",
       "1111              Mars Needs Moms          150000000        21392758   \n",
       "3662                 Dark Phoenix          350000000        42762350   \n",
       "\n",
       "      worldwide_gross      profit  perc_return  \n",
       "1801       2776345279  2351345279   553.257713  \n",
       "3775       2208208395  2008208395  1004.104198  \n",
       "3168       2048134200  1748134200   582.711400  \n",
       "3169       2048134200  1748134200   582.711400  \n",
       "353        1648854864  1433854864   666.909239  \n",
       "...               ...         ...          ...  \n",
       "3794                0   -82000000  -100.000000  \n",
       "3552                0   -90000000  -100.000000  \n",
       "2628          3100000  -106900000   -97.181818  \n",
       "1111         39549758  -110450242   -73.633495  \n",
       "3662        149762350  -200237650   -57.210757  \n",
       "\n",
       "[3869 rows x 13 columns]"
      ]
     },
     "execution_count": 10,
     "metadata": {},
     "output_type": "execute_result"
    }
   ],
   "source": [
    "directors_df.sort_values(by='profit',\n",
    "                   ascending=False,\n",
    "                   inplace=True)\n",
    "\n",
    "directors_df"
   ]
  },
  {
   "cell_type": "markdown",
   "metadata": {},
   "source": [
    "# Top Directors by Profit"
   ]
  },
  {
   "cell_type": "markdown",
   "metadata": {},
   "source": [
    "Count the values associated with the 15 most common directors that appear in the sorted directors df."
   ]
  },
  {
   "cell_type": "code",
   "execution_count": 11,
   "metadata": {
    "scrolled": true
   },
   "outputs": [
    {
     "data": {
      "text/plain": [
       "primary_name\n",
       "Tim Story             9\n",
       "David Gordon Green    8\n",
       "Steven Spielberg      8\n",
       "Steven Soderbergh     7\n",
       "Ridley Scott          7\n",
       "Clint Eastwood        6\n",
       "Tim Burton            6\n",
       "Peter Berg            6\n",
       "Jaume Collet-Serra    6\n",
       "Denis Villeneuve      6\n",
       "Jon M. Chu            6\n",
       "Guillermo del Toro    5\n",
       "Ron Howard            5\n",
       "Robert Rodriguez      5\n",
       "David O. Russell      5\n",
       "dtype: int64"
      ]
     },
     "execution_count": 11,
     "metadata": {},
     "output_type": "execute_result"
    }
   ],
   "source": [
    "top_15_dirs = directors_df.value_counts('primary_name').head(15)\n",
    "\n",
    "top_15_dirs"
   ]
  },
  {
   "cell_type": "markdown",
   "metadata": {},
   "source": [
    "Make a list of director names using index."
   ]
  },
  {
   "cell_type": "code",
   "execution_count": 12,
   "metadata": {
    "scrolled": false
   },
   "outputs": [
    {
     "data": {
      "text/plain": [
       "['Tim Story',\n",
       " 'David Gordon Green',\n",
       " 'Steven Spielberg',\n",
       " 'Steven Soderbergh',\n",
       " 'Ridley Scott',\n",
       " 'Clint Eastwood',\n",
       " 'Tim Burton',\n",
       " 'Peter Berg',\n",
       " 'Jaume Collet-Serra',\n",
       " 'Denis Villeneuve',\n",
       " 'Jon M. Chu',\n",
       " 'Guillermo del Toro',\n",
       " 'Ron Howard',\n",
       " 'Robert Rodriguez',\n",
       " 'David O. Russell']"
      ]
     },
     "execution_count": 12,
     "metadata": {},
     "output_type": "execute_result"
    }
   ],
   "source": [
    "top_15_dirs_list = list(top_15_dirs.index)\n",
    "\n",
    "top_15_dirs_list"
   ]
  },
  {
   "cell_type": "markdown",
   "metadata": {},
   "source": [
    "Iterate through the list of top 15 directors.\n",
    "\n",
    "Next, locate the rows and columns where the 'primary_name' is equal to the director's name.\n",
    "\n",
    "Then, append the average profit for each movie the director directed in to a new list."
   ]
  },
  {
   "cell_type": "code",
   "execution_count": 13,
   "metadata": {
    "scrolled": true
   },
   "outputs": [
    {
     "data": {
      "text/plain": [
       "[48457857.44444445,\n",
       " 42364834.5,\n",
       " 164754974.375,\n",
       " 45581726.85714286,\n",
       " 176967321.2857143,\n",
       " 137916026.66666666,\n",
       " 190861143.33333334,\n",
       " 34929965.833333336,\n",
       " 75478617.16666667,\n",
       " 57327861.166666664,\n",
       " 150242933.66666666,\n",
       " 97190623.6,\n",
       " 62628345.4,\n",
       " 48152771.4,\n",
       " 113364526.0]"
      ]
     },
     "execution_count": 13,
     "metadata": {},
     "output_type": "execute_result"
    }
   ],
   "source": [
    "avg_dir = []\n",
    "\n",
    "for director in top_15_dirs_list:\n",
    "    directors_filtered = directors_df.loc[directors_df['primary_name'] == director]\n",
    "    avg_dir.append(directors_filtered.profit.mean())\n",
    "    \n",
    "avg_dir"
   ]
  },
  {
   "cell_type": "markdown",
   "metadata": {},
   "source": [
    "Create a dataframe using zip with the top 15 directors and average profit lists"
   ]
  },
  {
   "cell_type": "code",
   "execution_count": 14,
   "metadata": {},
   "outputs": [],
   "source": [
    "directing_df = pd.DataFrame(list(zip(top_15_dirs_list, avg_dir)),\n",
    "               columns =['director_name', 'average_profit'])"
   ]
  },
  {
   "cell_type": "markdown",
   "metadata": {},
   "source": [
    "Sort the dataframe by 'average_profit'"
   ]
  },
  {
   "cell_type": "code",
   "execution_count": 15,
   "metadata": {},
   "outputs": [],
   "source": [
    "directing_df.sort_values(by='average_profit', inplace=True, ascending=False)"
   ]
  },
  {
   "cell_type": "markdown",
   "metadata": {},
   "source": [
    "# Directors data visualization"
   ]
  },
  {
   "cell_type": "code",
   "execution_count": 16,
   "metadata": {},
   "outputs": [],
   "source": [
    "#fig, ax = plt.subplots(figsize=(14,9))\n",
    "\n",
    "#x = rev_dir\n",
    "#y = top_20_dirs\n",
    "\n",
    "#ax.set_title(\"Top 20 Directors in Highest Earning Movies\")\n",
    "#ax.set_ylabel(\"Directors\")\n",
    "#ax.set_xlabel(\"Average Profit Per Movie\")\n",
    "\n",
    "#ax.ticklabel_format(axis='x', style='plain')\n",
    "\n",
    "#ax.barh(width=x, y=y);"
   ]
  },
  {
   "cell_type": "markdown",
   "metadata": {},
   "source": [
    "Create a barh using seaborn with the average profit for each movie the director directed on the x-axis and the top 15 directors list on the y-axis. \n",
    "\n",
    "Change x-axis units from scientific notation to easily readable numbers."
   ]
  },
  {
   "cell_type": "code",
   "execution_count": 29,
   "metadata": {},
   "outputs": [
    {
     "name": "stderr",
     "output_type": "stream",
     "text": [
      "C:\\Users\\alvaro\\AppData\\Local\\Temp\\ipykernel_2540\\1476798698.py:20: UserWarning: FixedFormatter should only be used together with FixedLocator\n",
      "  g.set_xticklabels(xlabels);\n"
     ]
    },
    {
     "data": {
      "image/png": "[encoded data removed]",
      "text/plain": [
       "<Figure size 1080x720 with 1 Axes>"
      ]
     },
     "metadata": {},
     "output_type": "display_data"
    }
   ],
   "source": [
    "sns.set(style=\"whitegrid\")\n",
    "\n",
    "sns.color_palette(\"rocket\")\n",
    "\n",
    "sns.set(rc = {'figure.figsize':(15,10)})\n",
    "\n",
    "g = sns.barplot(x='average_profit', y='director_name', data=directing_df.head(5))\n",
    "\n",
    "plt.ticklabel_format(axis='x', style='plain')\n",
    "plt.title('Top 5 Directors in Highest Grossing Movies', fontsize=30)\n",
    "plt.xlabel('Average Profit Per Movie', fontsize=24)\n",
    "plt.ylabel('Directors', fontsize=24)\n",
    "\n",
    "ticks_loc = g.get_xticks().tolist()\n",
    "#g.xaxis.set_major_locator(mticker.FixedLocator(ticks_loc))\n",
    "\n",
    "#g.set_xticklabels([label_format.format(x) for x in ticks_loc])\n",
    "\n",
    "xlabels = ['{:,.0f}'.format(x) + ' MM' for x in g.get_xticks()/1000000]\n",
    "g.set_xticklabels(xlabels);"
   ]
  },
  {
   "cell_type": "markdown",
   "metadata": {},
   "source": [
    "# Insights"
   ]
  },
  {
   "cell_type": "markdown",
   "metadata": {},
   "source": [
    "Directors draw in audiences! Steven Spielbergs, Tim Burtons, and Ridley Scotts \n",
    "create universes that pull over $100 million in box office. These directors have unqiue, \n",
    "beloved fimlamking styles. And their fans come out in droves to experience them in theaters. \n",
    "Sometimes multiple times. With one these visionaries at the helm, Microsoft may likley produce \n",
    "an instant classic and a blockbuster hit at the same time."
   ]
  },
  {
   "cell_type": "markdown",
   "metadata": {},
   "source": [
    "# Actors SQL"
   ]
  },
  {
   "cell_type": "markdown",
   "metadata": {},
   "source": [
    "Use SQL query to join tables by primary and foreign keys. This new comprehensive dataframe contains indentifying data regarding actors."
   ]
  },
  {
   "cell_type": "code",
   "execution_count": 18,
   "metadata": {},
   "outputs": [
    {
     "data": {
      "text/html": [
       "<div>\n",
       "<style scoped>\n",
       "    .dataframe tbody tr th:only-of-type {\n",
       "        vertical-align: middle;\n",
       "    }\n",
       "\n",
       "    .dataframe tbody tr th {\n",
       "        vertical-align: top;\n",
       "    }\n",
       "\n",
       "    .dataframe thead th {\n",
       "        text-align: right;\n",
       "    }\n",
       "</style>\n",
       "<table border=\"1\" class=\"dataframe\">\n",
       "  <thead>\n",
       "    <tr style=\"text-align: right;\">\n",
       "      <th></th>\n",
       "      <th>category</th>\n",
       "      <th>person_id</th>\n",
       "      <th>movie_id</th>\n",
       "      <th>primary_name</th>\n",
       "      <th>primary_title</th>\n",
       "    </tr>\n",
       "  </thead>\n",
       "  <tbody>\n",
       "    <tr>\n",
       "      <th>0</th>\n",
       "      <td>actor</td>\n",
       "      <td>nm0246005</td>\n",
       "      <td>tt0111414</td>\n",
       "      <td>Tommy Dysart</td>\n",
       "      <td>A Thin Life</td>\n",
       "    </tr>\n",
       "    <tr>\n",
       "      <th>1</th>\n",
       "      <td>actress</td>\n",
       "      <td>nm3579312</td>\n",
       "      <td>tt0323808</td>\n",
       "      <td>Brittania Nicol</td>\n",
       "      <td>The Wicker Tree</td>\n",
       "    </tr>\n",
       "    <tr>\n",
       "      <th>2</th>\n",
       "      <td>actor</td>\n",
       "      <td>nm2694680</td>\n",
       "      <td>tt0323808</td>\n",
       "      <td>Henry Garrett</td>\n",
       "      <td>The Wicker Tree</td>\n",
       "    </tr>\n",
       "    <tr>\n",
       "      <th>3</th>\n",
       "      <td>actor</td>\n",
       "      <td>nm0574615</td>\n",
       "      <td>tt0323808</td>\n",
       "      <td>Graham McTavish</td>\n",
       "      <td>The Wicker Tree</td>\n",
       "    </tr>\n",
       "    <tr>\n",
       "      <th>4</th>\n",
       "      <td>actress</td>\n",
       "      <td>nm0502652</td>\n",
       "      <td>tt0323808</td>\n",
       "      <td>Jacqueline Leonard</td>\n",
       "      <td>The Wicker Tree</td>\n",
       "    </tr>\n",
       "    <tr>\n",
       "      <th>...</th>\n",
       "      <td>...</td>\n",
       "      <td>...</td>\n",
       "      <td>...</td>\n",
       "      <td>...</td>\n",
       "      <td>...</td>\n",
       "    </tr>\n",
       "    <tr>\n",
       "      <th>402680</th>\n",
       "      <td>actor</td>\n",
       "      <td>nm10397910</td>\n",
       "      <td>tt9681728</td>\n",
       "      <td>Danil Tyabin</td>\n",
       "      <td>A Russian Youth</td>\n",
       "    </tr>\n",
       "    <tr>\n",
       "      <th>402681</th>\n",
       "      <td>actor</td>\n",
       "      <td>nm10439726</td>\n",
       "      <td>tt9689618</td>\n",
       "      <td>Christian Lacroix</td>\n",
       "      <td>Moonface. A woman in the war.</td>\n",
       "    </tr>\n",
       "    <tr>\n",
       "      <th>402682</th>\n",
       "      <td>actor</td>\n",
       "      <td>nm10439727</td>\n",
       "      <td>tt9689618</td>\n",
       "      <td>Christine Spengler</td>\n",
       "      <td>Moonface. A woman in the war.</td>\n",
       "    </tr>\n",
       "    <tr>\n",
       "      <th>402683</th>\n",
       "      <td>actor</td>\n",
       "      <td>nm10439724</td>\n",
       "      <td>tt9689618</td>\n",
       "      <td>Phillippe Warner</td>\n",
       "      <td>Moonface. A woman in the war.</td>\n",
       "    </tr>\n",
       "    <tr>\n",
       "      <th>402684</th>\n",
       "      <td>actor</td>\n",
       "      <td>nm0186469</td>\n",
       "      <td>tt9692684</td>\n",
       "      <td>Kenneth Cranham</td>\n",
       "      <td>Disnatured</td>\n",
       "    </tr>\n",
       "  </tbody>\n",
       "</table>\n",
       "<p>402685 rows × 5 columns</p>\n",
       "</div>"
      ],
      "text/plain": [
       "       category   person_id   movie_id        primary_name  \\\n",
       "0         actor   nm0246005  tt0111414        Tommy Dysart   \n",
       "1       actress   nm3579312  tt0323808     Brittania Nicol   \n",
       "2         actor   nm2694680  tt0323808       Henry Garrett   \n",
       "3         actor   nm0574615  tt0323808     Graham McTavish   \n",
       "4       actress   nm0502652  tt0323808  Jacqueline Leonard   \n",
       "...         ...         ...        ...                 ...   \n",
       "402680    actor  nm10397910  tt9681728        Danil Tyabin   \n",
       "402681    actor  nm10439726  tt9689618   Christian Lacroix   \n",
       "402682    actor  nm10439727  tt9689618  Christine Spengler   \n",
       "402683    actor  nm10439724  tt9689618    Phillippe Warner   \n",
       "402684    actor   nm0186469  tt9692684     Kenneth Cranham   \n",
       "\n",
       "                        primary_title  \n",
       "0                         A Thin Life  \n",
       "1                     The Wicker Tree  \n",
       "2                     The Wicker Tree  \n",
       "3                     The Wicker Tree  \n",
       "4                     The Wicker Tree  \n",
       "...                               ...  \n",
       "402680                A Russian Youth  \n",
       "402681  Moonface. A woman in the war.  \n",
       "402682  Moonface. A woman in the war.  \n",
       "402683  Moonface. A woman in the war.  \n",
       "402684                     Disnatured  \n",
       "\n",
       "[402685 rows x 5 columns]"
      ]
     },
     "execution_count": 18,
     "metadata": {},
     "output_type": "execute_result"
    }
   ],
   "source": [
    "actors = pd.read_sql('''\n",
    "SELECT\n",
    "    category,\n",
    "    pr.person_id,\n",
    "    pr.movie_id,\n",
    "    primary_name,\n",
    "    primary_title\n",
    "FROM\n",
    "    principals as pr\n",
    "INNER JOIN\n",
    "    persons as p using(person_id)\n",
    "INNER JOIN\n",
    "    movie_basics as mb using(movie_id)\n",
    "WHERE\n",
    "    category = 'actor' \n",
    "    or\n",
    "    category = 'actress'\n",
    "''',conn)\n",
    "\n",
    "actors"
   ]
  },
  {
   "cell_type": "markdown",
   "metadata": {},
   "source": [
    "# Actors dataframe merge"
   ]
  },
  {
   "cell_type": "markdown",
   "metadata": {},
   "source": [
    "Merge the actors and tnmovie dataframes on 'primary_title' and 'movie'"
   ]
  },
  {
   "cell_type": "code",
   "execution_count": 19,
   "metadata": {},
   "outputs": [
    {
     "data": {
      "text/html": [
       "<div>\n",
       "<style scoped>\n",
       "    .dataframe tbody tr th:only-of-type {\n",
       "        vertical-align: middle;\n",
       "    }\n",
       "\n",
       "    .dataframe tbody tr th {\n",
       "        vertical-align: top;\n",
       "    }\n",
       "\n",
       "    .dataframe thead th {\n",
       "        text-align: right;\n",
       "    }\n",
       "</style>\n",
       "<table border=\"1\" class=\"dataframe\">\n",
       "  <thead>\n",
       "    <tr style=\"text-align: right;\">\n",
       "      <th></th>\n",
       "      <th>category</th>\n",
       "      <th>person_id</th>\n",
       "      <th>movie_id</th>\n",
       "      <th>primary_name</th>\n",
       "      <th>primary_title</th>\n",
       "      <th>id</th>\n",
       "      <th>release_date</th>\n",
       "      <th>movie</th>\n",
       "      <th>production_budget</th>\n",
       "      <th>domestic_gross</th>\n",
       "      <th>worldwide_gross</th>\n",
       "      <th>profit</th>\n",
       "      <th>perc_return</th>\n",
       "    </tr>\n",
       "  </thead>\n",
       "  <tbody>\n",
       "    <tr>\n",
       "      <th>0</th>\n",
       "      <td>actor</td>\n",
       "      <td>nm0000982</td>\n",
       "      <td>tt0475290</td>\n",
       "      <td>Josh Brolin</td>\n",
       "      <td>Hail, Caesar!</td>\n",
       "      <td>22</td>\n",
       "      <td>Feb 5, 2016</td>\n",
       "      <td>Hail, Caesar!</td>\n",
       "      <td>22000000</td>\n",
       "      <td>30080225</td>\n",
       "      <td>64160680</td>\n",
       "      <td>42160680</td>\n",
       "      <td>191.639455</td>\n",
       "    </tr>\n",
       "    <tr>\n",
       "      <th>1</th>\n",
       "      <td>actor</td>\n",
       "      <td>nm0000123</td>\n",
       "      <td>tt0475290</td>\n",
       "      <td>George Clooney</td>\n",
       "      <td>Hail, Caesar!</td>\n",
       "      <td>22</td>\n",
       "      <td>Feb 5, 2016</td>\n",
       "      <td>Hail, Caesar!</td>\n",
       "      <td>22000000</td>\n",
       "      <td>30080225</td>\n",
       "      <td>64160680</td>\n",
       "      <td>42160680</td>\n",
       "      <td>191.639455</td>\n",
       "    </tr>\n",
       "    <tr>\n",
       "      <th>2</th>\n",
       "      <td>actor</td>\n",
       "      <td>nm2403277</td>\n",
       "      <td>tt0475290</td>\n",
       "      <td>Alden Ehrenreich</td>\n",
       "      <td>Hail, Caesar!</td>\n",
       "      <td>22</td>\n",
       "      <td>Feb 5, 2016</td>\n",
       "      <td>Hail, Caesar!</td>\n",
       "      <td>22000000</td>\n",
       "      <td>30080225</td>\n",
       "      <td>64160680</td>\n",
       "      <td>42160680</td>\n",
       "      <td>191.639455</td>\n",
       "    </tr>\n",
       "    <tr>\n",
       "      <th>3</th>\n",
       "      <td>actor</td>\n",
       "      <td>nm0000146</td>\n",
       "      <td>tt0475290</td>\n",
       "      <td>Ralph Fiennes</td>\n",
       "      <td>Hail, Caesar!</td>\n",
       "      <td>22</td>\n",
       "      <td>Feb 5, 2016</td>\n",
       "      <td>Hail, Caesar!</td>\n",
       "      <td>22000000</td>\n",
       "      <td>30080225</td>\n",
       "      <td>64160680</td>\n",
       "      <td>42160680</td>\n",
       "      <td>191.639455</td>\n",
       "    </tr>\n",
       "    <tr>\n",
       "      <th>4</th>\n",
       "      <td>actor</td>\n",
       "      <td>nm0006763</td>\n",
       "      <td>tt10300704</td>\n",
       "      <td>Jackie Shroff</td>\n",
       "      <td>Walter</td>\n",
       "      <td>96</td>\n",
       "      <td>Mar 13, 2015</td>\n",
       "      <td>Walter</td>\n",
       "      <td>700000</td>\n",
       "      <td>0</td>\n",
       "      <td>0</td>\n",
       "      <td>-700000</td>\n",
       "      <td>-100.000000</td>\n",
       "    </tr>\n",
       "    <tr>\n",
       "      <th>...</th>\n",
       "      <td>...</td>\n",
       "      <td>...</td>\n",
       "      <td>...</td>\n",
       "      <td>...</td>\n",
       "      <td>...</td>\n",
       "      <td>...</td>\n",
       "      <td>...</td>\n",
       "      <td>...</td>\n",
       "      <td>...</td>\n",
       "      <td>...</td>\n",
       "      <td>...</td>\n",
       "      <td>...</td>\n",
       "      <td>...</td>\n",
       "    </tr>\n",
       "    <tr>\n",
       "      <th>13362</th>\n",
       "      <td>actor</td>\n",
       "      <td>nm10487076</td>\n",
       "      <td>tt9805168</td>\n",
       "      <td>E. Iderbold</td>\n",
       "      <td>Traitor</td>\n",
       "      <td>25</td>\n",
       "      <td>Aug 27, 2008</td>\n",
       "      <td>Traitor</td>\n",
       "      <td>22000000</td>\n",
       "      <td>23530831</td>\n",
       "      <td>27882226</td>\n",
       "      <td>5882226</td>\n",
       "      <td>26.737391</td>\n",
       "    </tr>\n",
       "    <tr>\n",
       "      <th>13363</th>\n",
       "      <td>actor</td>\n",
       "      <td>nm10480867</td>\n",
       "      <td>tt9805168</td>\n",
       "      <td>N. Yalalt</td>\n",
       "      <td>Traitor</td>\n",
       "      <td>25</td>\n",
       "      <td>Aug 27, 2008</td>\n",
       "      <td>Traitor</td>\n",
       "      <td>22000000</td>\n",
       "      <td>23530831</td>\n",
       "      <td>27882226</td>\n",
       "      <td>5882226</td>\n",
       "      <td>26.737391</td>\n",
       "    </tr>\n",
       "    <tr>\n",
       "      <th>13364</th>\n",
       "      <td>actor</td>\n",
       "      <td>nm10487077</td>\n",
       "      <td>tt9805168</td>\n",
       "      <td>A. Önörjargal</td>\n",
       "      <td>Traitor</td>\n",
       "      <td>25</td>\n",
       "      <td>Aug 27, 2008</td>\n",
       "      <td>Traitor</td>\n",
       "      <td>22000000</td>\n",
       "      <td>23530831</td>\n",
       "      <td>27882226</td>\n",
       "      <td>5882226</td>\n",
       "      <td>26.737391</td>\n",
       "    </tr>\n",
       "    <tr>\n",
       "      <th>13365</th>\n",
       "      <td>actor</td>\n",
       "      <td>nm9457389</td>\n",
       "      <td>tt7694546</td>\n",
       "      <td>Dongchao Tai</td>\n",
       "      <td>Beowulf</td>\n",
       "      <td>88</td>\n",
       "      <td>Nov 16, 2007</td>\n",
       "      <td>Beowulf</td>\n",
       "      <td>150000000</td>\n",
       "      <td>82280579</td>\n",
       "      <td>195080579</td>\n",
       "      <td>45080579</td>\n",
       "      <td>30.053719</td>\n",
       "    </tr>\n",
       "    <tr>\n",
       "      <th>13366</th>\n",
       "      <td>actor</td>\n",
       "      <td>nm3868049</td>\n",
       "      <td>tt9678962</td>\n",
       "      <td>Maarten Wijsman</td>\n",
       "      <td>Fuel</td>\n",
       "      <td>35</td>\n",
       "      <td>Nov 14, 2008</td>\n",
       "      <td>Fuel</td>\n",
       "      <td>2500000</td>\n",
       "      <td>174255</td>\n",
       "      <td>174255</td>\n",
       "      <td>-2325745</td>\n",
       "      <td>-93.029800</td>\n",
       "    </tr>\n",
       "  </tbody>\n",
       "</table>\n",
       "<p>13367 rows × 13 columns</p>\n",
       "</div>"
      ],
      "text/plain": [
       "      category   person_id    movie_id      primary_name  primary_title  id  \\\n",
       "0        actor   nm0000982   tt0475290       Josh Brolin  Hail, Caesar!  22   \n",
       "1        actor   nm0000123   tt0475290    George Clooney  Hail, Caesar!  22   \n",
       "2        actor   nm2403277   tt0475290  Alden Ehrenreich  Hail, Caesar!  22   \n",
       "3        actor   nm0000146   tt0475290     Ralph Fiennes  Hail, Caesar!  22   \n",
       "4        actor   nm0006763  tt10300704     Jackie Shroff         Walter  96   \n",
       "...        ...         ...         ...               ...            ...  ..   \n",
       "13362    actor  nm10487076   tt9805168       E. Iderbold        Traitor  25   \n",
       "13363    actor  nm10480867   tt9805168         N. Yalalt        Traitor  25   \n",
       "13364    actor  nm10487077   tt9805168     A. Önörjargal        Traitor  25   \n",
       "13365    actor   nm9457389   tt7694546      Dongchao Tai        Beowulf  88   \n",
       "13366    actor   nm3868049   tt9678962   Maarten Wijsman           Fuel  35   \n",
       "\n",
       "       release_date          movie  production_budget  domestic_gross  \\\n",
       "0       Feb 5, 2016  Hail, Caesar!           22000000        30080225   \n",
       "1       Feb 5, 2016  Hail, Caesar!           22000000        30080225   \n",
       "2       Feb 5, 2016  Hail, Caesar!           22000000        30080225   \n",
       "3       Feb 5, 2016  Hail, Caesar!           22000000        30080225   \n",
       "4      Mar 13, 2015         Walter             700000               0   \n",
       "...             ...            ...                ...             ...   \n",
       "13362  Aug 27, 2008        Traitor           22000000        23530831   \n",
       "13363  Aug 27, 2008        Traitor           22000000        23530831   \n",
       "13364  Aug 27, 2008        Traitor           22000000        23530831   \n",
       "13365  Nov 16, 2007        Beowulf          150000000        82280579   \n",
       "13366  Nov 14, 2008           Fuel            2500000          174255   \n",
       "\n",
       "       worldwide_gross    profit  perc_return  \n",
       "0             64160680  42160680   191.639455  \n",
       "1             64160680  42160680   191.639455  \n",
       "2             64160680  42160680   191.639455  \n",
       "3             64160680  42160680   191.639455  \n",
       "4                    0   -700000  -100.000000  \n",
       "...                ...       ...          ...  \n",
       "13362         27882226   5882226    26.737391  \n",
       "13363         27882226   5882226    26.737391  \n",
       "13364         27882226   5882226    26.737391  \n",
       "13365        195080579  45080579    30.053719  \n",
       "13366           174255  -2325745   -93.029800  \n",
       "\n",
       "[13367 rows x 13 columns]"
      ]
     },
     "execution_count": 19,
     "metadata": {},
     "output_type": "execute_result"
    }
   ],
   "source": [
    "actors_df = pd.merge(actors,\n",
    "                  tnmovie,\n",
    "                  left_on='primary_title',\n",
    "                  right_on='movie')\n",
    "\n",
    "actors_df"
   ]
  },
  {
   "cell_type": "markdown",
   "metadata": {},
   "source": [
    "# Top Actors by Profit"
   ]
  },
  {
   "cell_type": "markdown",
   "metadata": {},
   "source": [
    "Sort actors df by 'profit'"
   ]
  },
  {
   "cell_type": "code",
   "execution_count": 20,
   "metadata": {},
   "outputs": [],
   "source": [
    "actors_df.sort_values(by='profit', ascending=False, inplace=True)"
   ]
  },
  {
   "cell_type": "markdown",
   "metadata": {},
   "source": [
    "Count the values associated with the 15 most common names that appear in the sorted actors df."
   ]
  },
  {
   "cell_type": "code",
   "execution_count": 21,
   "metadata": {},
   "outputs": [
    {
     "data": {
      "text/plain": [
       "primary_name\n",
       "Mark Wahlberg          19\n",
       "Dwayne Johnson         19\n",
       "Robert De Niro         18\n",
       "Liam Neeson            18\n",
       "Steve Carell           17\n",
       "Channing Tatum         17\n",
       "Joel Edgerton          17\n",
       "Kevin Hart             16\n",
       "Johnny Depp            16\n",
       "Matthew McConaughey    16\n",
       "Nicolas Cage           15\n",
       "Michael Fassbender     15\n",
       "Anna Kendrick          15\n",
       "Tom Hardy              15\n",
       "Jennifer Lawrence      15\n",
       "dtype: int64"
      ]
     },
     "execution_count": 21,
     "metadata": {},
     "output_type": "execute_result"
    }
   ],
   "source": [
    "top_15_actors = actors_df.value_counts('primary_name').head(15)\n",
    "\n",
    "top_15_actors"
   ]
  },
  {
   "cell_type": "markdown",
   "metadata": {},
   "source": [
    "Make a list of actor names using index."
   ]
  },
  {
   "cell_type": "code",
   "execution_count": 22,
   "metadata": {},
   "outputs": [
    {
     "data": {
      "text/plain": [
       "['Mark Wahlberg',\n",
       " 'Dwayne Johnson',\n",
       " 'Robert De Niro',\n",
       " 'Liam Neeson',\n",
       " 'Steve Carell',\n",
       " 'Channing Tatum',\n",
       " 'Joel Edgerton',\n",
       " 'Kevin Hart',\n",
       " 'Johnny Depp',\n",
       " 'Matthew McConaughey',\n",
       " 'Nicolas Cage',\n",
       " 'Michael Fassbender',\n",
       " 'Anna Kendrick',\n",
       " 'Tom Hardy',\n",
       " 'Jennifer Lawrence']"
      ]
     },
     "execution_count": 22,
     "metadata": {},
     "output_type": "execute_result"
    }
   ],
   "source": [
    "top_15_actors = list(top_15_actors.index)\n",
    "\n",
    "top_15_actors"
   ]
  },
  {
   "cell_type": "markdown",
   "metadata": {},
   "source": [
    "Iterate through the list of top 15 actors.\n",
    "\n",
    "Next, locate the rows and columns where the 'primary_name' is equal to the actors's name.\n",
    "\n",
    "Then, append the average profit for each movie the actor appeared in to a new list."
   ]
  },
  {
   "cell_type": "code",
   "execution_count": 23,
   "metadata": {},
   "outputs": [
    {
     "data": {
      "text/plain": [
       "137891808.0526316"
      ]
     },
     "execution_count": 23,
     "metadata": {},
     "output_type": "execute_result"
    }
   ],
   "source": [
    "avg_actor = []\n",
    "\n",
    "for actor in top_15_actors:\n",
    "    actors_filtered = actors_df.loc[actors_df['primary_name'] == actor]\n",
    "    avg_actor.append(actors_filtered.profit.mean())\n",
    "    \n",
    "avg_actor[0]"
   ]
  },
  {
   "cell_type": "markdown",
   "metadata": {},
   "source": [
    "Create a dataframe using zip with the top 15 actors and average profit lists"
   ]
  },
  {
   "cell_type": "code",
   "execution_count": 24,
   "metadata": {},
   "outputs": [],
   "source": [
    "acting_df = pd.DataFrame(list(zip(top_15_actors, avg_actor)),\n",
    "               columns =['actor_name', 'average_profit'])"
   ]
  },
  {
   "cell_type": "markdown",
   "metadata": {},
   "source": [
    "Sort the dataframe by 'average_profit'"
   ]
  },
  {
   "cell_type": "code",
   "execution_count": 25,
   "metadata": {},
   "outputs": [],
   "source": [
    "acting_df.sort_values(by='average_profit', inplace=True, ascending=False)"
   ]
  },
  {
   "cell_type": "markdown",
   "metadata": {},
   "source": [
    "# Actors data visualization"
   ]
  },
  {
   "cell_type": "code",
   "execution_count": 26,
   "metadata": {},
   "outputs": [],
   "source": [
    "#fig, ax = plt.subplots(figsize=(14,9))\n",
    "\n",
    "\n",
    "#x = rev_actor\n",
    "#y = top_25_actors\n",
    "\n",
    "#ax.set_title(\"Top 25 Actors in Highest Earning Movies\")\n",
    "#ax.set_ylabel(\"Actors\")\n",
    "#ax.set_xlabel(\"Average Profit Per Movie\")\n",
    "\n",
    "#ax.ticklabel_format(axis='x', style='plain')\n",
    "\n",
    "#xlabels = ['{:,.0f}'.format(x) + ' MM' for x in ax.get_xticks()/1000000]\n",
    "#ax.set_xticklabels(xlabels)\n",
    "\n",
    "#ax.barh(width=x, y=y);"
   ]
  },
  {
   "cell_type": "markdown",
   "metadata": {},
   "source": [
    "Create a barh using seaborn with the average profit for each movie the actor appeared in on the x-axis and the top 15 actors list on the y-axis.\n",
    "\n",
    "Change x-axis units from scientific notation to easily readable numbers."
   ]
  },
  {
   "cell_type": "code",
   "execution_count": 31,
   "metadata": {
    "scrolled": false
   },
   "outputs": [
    {
     "name": "stderr",
     "output_type": "stream",
     "text": [
      "C:\\Users\\alvaro\\AppData\\Local\\Temp\\ipykernel_2540\\3802444047.py:17: UserWarning: FixedFormatter should only be used together with FixedLocator\n",
      "  g.set_xticklabels(xlabels);\n"
     ]
    },
    {
     "data": {
      "image/png": "[encoded data removed]",
      "text/plain": [
       "<Figure size 1080x720 with 1 Axes>"
      ]
     },
     "metadata": {},
     "output_type": "display_data"
    }
   ],
   "source": [
    "sns.set(style=\"whitegrid\")\n",
    "\n",
    "sns.color_palette(\"rocket\")\n",
    "\n",
    "sns.set(rc = {'figure.figsize':(15,10)})\n",
    "\n",
    "g = sns.barplot(x='average_profit', y='actor_name', data=acting_df.head(5))\n",
    "\n",
    "plt.title('Top 5 Actors in Highest Grossing Movies', fontsize=30)\n",
    "plt.xlabel('Average Profit Per Movie', fontsize=24)\n",
    "plt.ylabel('Actors', fontsize=24)\n",
    "\n",
    "plt.ticklabel_format(axis='x', style='plain')\n",
    "\n",
    "xlabels = ['{:,.0f}'.format(x) + ' MM' for x in g.get_xticks()/1000000]\n",
    "g.set_xticklabels(xlabels);"
   ]
  },
  {
   "cell_type": "markdown",
   "metadata": {},
   "source": [
    "# Insights"
   ]
  },
  {
   "cell_type": "markdown",
   "metadata": {},
   "source": [
    "Movie star appeal is a major box office draw! Actors like Dwayne Johnson, Jennifer Lawrence, and Kevin Hart not only makes us laugh and cry, they also inspire us. These actors average over $150 million per film because they have an army of die-hard fans always ready to invade the next midnight premiere. Casting one these stars in a Microsoft movie, may likley drive high box office sales."
   ]
  }
 ],
 "metadata": {
  "kernelspec": {
   "display_name": "Python (learn-env)",
   "language": "python",
   "name": "learn-env"
  },
  "language_info": {
   "codemirror_mode": {
    "name": "ipython",
    "version": 3
   },
   "file_extension": ".py",
   "mimetype": "text/x-python",
   "name": "python",
   "nbconvert_exporter": "python",
   "pygments_lexer": "ipython3",
   "version": "3.9.12"
  }
 },
 "nbformat": 4,
 "nbformat_minor": 4
}
